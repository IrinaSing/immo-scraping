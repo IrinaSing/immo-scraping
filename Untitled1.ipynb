{
 "cells": [
  {
   "cell_type": "code",
   "execution_count": 15,
   "metadata": {},
   "outputs": [
    {
     "name": "stdout",
     "output_type": "stream",
     "text": [
      "https://www.immoweb.be/en/classified/apartment/for-rent/ixelles/1050/9778408 200\n"
     ]
    },
    {
     "data": {
      "text/plain": [
       "<script>\n",
       "    window.dataLayer = [\n",
       "        {\n",
       "            \"user\": {\n",
       "                \"loginStatus\": \"logged out\",\n",
       "                \"id\": \"\",\n",
       "                \"personal\": {\n",
       "                    \"language\": \"\"\n",
       "                }\n",
       "            },\n",
       "                                        \"classified\": {\n",
       "                \"id\": \"9778408\",\n",
       "                \"type\": \"apartment\",\n",
       "                \"subtype\": \"apartment\",\n",
       "                \"price\": \"1400\",\n",
       "                \"transactionType\": \"for rent\",\n",
       "                \"zip\": \"1050\",\n",
       "                \"visualisationOption\": \"xl\",\n",
       "                \"kitchen\": {\n",
       "                    \"type\": \"usa hyper equipped\"\n",
       "                },\n",
       "                \"building\": {\n",
       "                    \"constructionYear\": \"1900\",\n",
       "                    \"condition\": \"as new\"\n",
       "                },\n",
       "                \"energy\": {\n",
       "                    \"heatingType\": \"gas\"\n",
       "                },\n",
       "                \"certificates\": {\n",
       "                    \"primaryEnergyConsumptionLevel\": \"260\"\n",
       "                },\n",
       "                \"bedroom\": {\n",
       "                    \"count\": \"2\"\n",
       "                },\n",
       "                \"land\": {\n",
       "                    \"surface\": \"\"\n",
       "                },\n",
       "                \"atticExists\": \"\",\n",
       "                \"basementExists\": \"\",\n",
       "                \"outdoor\": {\n",
       "                    \"garden\": {\n",
       "                        \"surface\": \"\"\n",
       "                    },\n",
       "                    \"terrace\": {\n",
       "                        \"exists\": \"true\"\n",
       "                    }\n",
       "                },\n",
       "                \"specificities\": {\n",
       "                    \"SME\": {\n",
       "                        \"office\": {\n",
       "                            \"exists\": \"\"\n",
       "                        }\n",
       "                    }\n",
       "                },\n",
       "                \"wellnessEquipment\": {\n",
       "                    \"hasSwimmingPool\": \"\"\n",
       "                },\n",
       "                \"parking\": {\n",
       "                    \"parkingSpaceCount\": {\n",
       "                        \"indoor\": \"\",\n",
       "                        \"outdoor\": \"\"\n",
       "                    }\n",
       "                },\n",
       "                \"condition\": {\n",
       "                    \"isNewlyBuilt\": \"false\"\n",
       "                }\n",
       "            },\n",
       "                                    \"customer\": {\n",
       "                \"id\": \"3467306\",\n",
       "                \"name\": \"haussmann by oralis\",\n",
       "                \"family\" : \"agency\",\n",
       "                \"groupInfo\": {\n",
       "                    \"id\": \"\",\n",
       "                    \"name\": \"\"\n",
       "                },\n",
       "                \"networkInfo\": {\n",
       "                    \"id\" : \"\",\n",
       "                    \"name\": \"\"\n",
       "                }\n",
       "            },\n",
       "                                    \"screen\": {\n",
       "                \"name\": \"classified details\",\n",
       "                \"language\": \"en\"\n",
       "            }\n",
       "\n",
       "        }\n",
       "    ];\n",
       "</script>"
      ]
     },
     "execution_count": 15,
     "metadata": {},
     "output_type": "execute_result"
    }
   ],
   "source": [
    "from bs4 import BeautifulSoup\n",
    "import requests\n",
    "\n",
    "\n",
    "url = \"https://www.immoweb.be/en/classified/apartment/for-rent/ixelles/1050/9778408\"\n",
    "r = requests.get(url)\n",
    "print(url, r.status_code)\n",
    "soup = BeautifulSoup(r.content, \"lxml\")\n",
    "soup.find_all(\"script\")[1]\n",
    "\n",
    "\n",
    "    \n",
    "\n"
   ]
  },
  {
   "cell_type": "code",
   "execution_count": null,
   "metadata": {},
   "outputs": [],
   "source": [
    "for p in soup.find_all(\"div\"):\n",
    "    print(p.text)\n",
    "for elem in soup.find_all(\"div\", attrs={\"class\": \"card--list-classified__media\"}):\n",
    "    print(elem.get(\"href\"))"
   ]
  },
  {
   "cell_type": "code",
   "execution_count": null,
   "metadata": {},
   "outputs": [],
   "source": []
  }
 ],
 "metadata": {
  "kernelspec": {
   "display_name": "Python 3",
   "language": "python",
   "name": "python3"
  },
  "language_info": {
   "codemirror_mode": {
    "name": "ipython",
    "version": 3
   },
   "file_extension": ".py",
   "mimetype": "text/x-python",
   "name": "python",
   "nbconvert_exporter": "python",
   "pygments_lexer": "ipython3",
   "version": "3.7.6"
  }
 },
 "nbformat": 4,
 "nbformat_minor": 4
}
